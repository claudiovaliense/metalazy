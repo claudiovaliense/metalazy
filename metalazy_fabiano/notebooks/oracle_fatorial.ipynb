{
 "cells": [
  {
   "cell_type": "code",
   "execution_count": 1,
   "metadata": {},
   "outputs": [],
   "source": [
    "import pandas as pd\n",
    "from sklearn.metrics import f1_score"
   ]
  },
  {
   "cell_type": "code",
   "execution_count": 2,
   "metadata": {},
   "outputs": [],
   "source": [
    "def any_correct(row):\n",
    "    for clf in ['nb_0_0','nb_1_0','nb_0_1','nb_1_1','logistic_0_0','logistic_1_0','logistic_0_1','logistic_1_1','extrarf_0_0','extrarf_1_0','extrarf_0_1','extrarf_1_1']:\n",
    "        if row['y_test'] == row[clf]:\n",
    "            return row['y_test']\n",
    "    return row['nb_0_0']    "
   ]
  },
  {
   "cell_type": "code",
   "execution_count": 7,
   "metadata": {},
   "outputs": [
    {
     "name": "stdout",
     "output_type": "stream",
     "text": [
      "/home/lfmendes/data/mestrado/metalazy/results/FATORIAL_ORACLE/reut/reut_oracle_fatorial/result_oracle_fold_1.csv\n",
      "['nb', '0', '0']\n",
      "['nb', '1', '0']\n",
      "['nb', '0', '1']\n",
      "['nb', '1', '1']\n",
      "['logistic', '0', '0']\n",
      "['logistic', '1', '0']\n",
      "['logistic', '0', '1']\n",
      "['logistic', '1', '1']\n",
      "['extrarf', '0', '0']\n",
      "['extrarf', '1', '0']\n",
      "['extrarf', '0', '1']\n",
      "['extrarf', '1', '1']\n",
      "/home/lfmendes/data/mestrado/metalazy/results/FATORIAL_ORACLE/reut/reut_oracle_fatorial/result_oracle_fold_2.csv\n"
     ]
    },
    {
     "name": "stderr",
     "output_type": "stream",
     "text": [
      "/home/lfmendes/data/mestrado/venv/lib/python3.5/site-packages/sklearn/metrics/classification.py:1137: UndefinedMetricWarning: F-score is ill-defined and being set to 0.0 in labels with no true samples.\n",
      "  'recall', 'true', average, warn_for)\n"
     ]
    },
    {
     "name": "stdout",
     "output_type": "stream",
     "text": [
      "['nb', '0', '0']\n",
      "['nb', '1', '0']\n",
      "['nb', '0', '1']\n",
      "['nb', '1', '1']\n",
      "['logistic', '0', '0']\n",
      "['logistic', '1', '0']\n",
      "['logistic', '0', '1']\n",
      "['logistic', '1', '1']\n",
      "['extrarf', '0', '0']\n",
      "['extrarf', '1', '0']\n",
      "['extrarf', '0', '1']\n",
      "['extrarf', '1', '1']\n",
      "/home/lfmendes/data/mestrado/metalazy/results/FATORIAL_ORACLE/reut/reut_oracle_fatorial/result_oracle_fold_3.csv\n"
     ]
    },
    {
     "name": "stderr",
     "output_type": "stream",
     "text": [
      "/home/lfmendes/data/mestrado/venv/lib/python3.5/site-packages/sklearn/metrics/classification.py:1135: UndefinedMetricWarning: F-score is ill-defined and being set to 0.0 in labels with no predicted samples.\n",
      "  'precision', 'predicted', average, warn_for)\n"
     ]
    },
    {
     "name": "stdout",
     "output_type": "stream",
     "text": [
      "['nb', '0', '0']\n",
      "['nb', '1', '0']\n",
      "['nb', '0', '1']\n",
      "['nb', '1', '1']\n",
      "['logistic', '0', '0']\n",
      "['logistic', '1', '0']\n",
      "['logistic', '0', '1']\n",
      "['logistic', '1', '1']\n",
      "['extrarf', '0', '0']\n",
      "['extrarf', '1', '0']\n",
      "['extrarf', '0', '1']\n",
      "['extrarf', '1', '1']\n",
      "/home/lfmendes/data/mestrado/metalazy/results/FATORIAL_ORACLE/reut/reut_oracle_fatorial/result_oracle_fold_4.csv\n",
      "['nb', '0', '0']\n",
      "['nb', '1', '0']\n",
      "['nb', '0', '1']\n",
      "['nb', '1', '1']\n",
      "['logistic', '0', '0']\n",
      "['logistic', '1', '0']\n",
      "['logistic', '0', '1']\n",
      "['logistic', '1', '1']\n",
      "['extrarf', '0', '0']\n",
      "['extrarf', '1', '0']\n",
      "['extrarf', '0', '1']\n",
      "['extrarf', '1', '1']\n",
      "/home/lfmendes/data/mestrado/metalazy/results/FATORIAL_ORACLE/reut/reut_oracle_fatorial/result_oracle_fold_5.csv\n",
      "['nb', '0', '0']\n",
      "['nb', '1', '0']\n",
      "['nb', '0', '1']\n",
      "['nb', '1', '1']\n",
      "['logistic', '0', '0']\n",
      "['logistic', '1', '0']\n",
      "['logistic', '0', '1']\n",
      "['logistic', '1', '1']\n",
      "['extrarf', '0', '0']\n",
      "['extrarf', '1', '0']\n",
      "['extrarf', '0', '1']\n",
      "['extrarf', '1', '1']\n"
     ]
    }
   ],
   "source": [
    "path = '/home/lfmendes/data/mestrado/metalazy/results/FATORIAL_ORACLE/reut/reut_oracle_fatorial/'\n",
    "output_path = '{}processed/'.format(path)\n",
    "\n",
    "import os\n",
    "if not os.path.exists(output_path):\n",
    "    os.makedirs(output_path)\n",
    "\n",
    "result = []\n",
    "folds = [1,2,3,4,5]\n",
    "metrics = ['micro','macro']\n",
    "configurations = ['nb_0_0','nb_1_0','nb_0_1','nb_1_1','logistic_0_0','logistic_1_0','logistic_0_1','logistic_1_1','extrarf_0_0','extrarf_1_0','extrarf_0_1','extrarf_1_1']\n",
    "    \n",
    "for fold in folds:    \n",
    "    # open file\n",
    "    print('{}result_oracle_fold_{}.csv'.format(path,fold))\n",
    "    df = pd.read_csv('{}result_fatorial_oracle_fold_{}.csv'.format(path,fold))\n",
    "    # get oracle result\n",
    "    df['oracle'] = df.apply(any_correct, axis=1)\n",
    "    # insert     \n",
    "    for clf in configurations:            \n",
    "        value = {}        \n",
    "        splited = clf.split('_')\n",
    "        print(splited)\n",
    "        for metric in metrics:            \n",
    "            value['f1 {}'.format(metric)] = f1_score(df[clf], df['y_test'], average=metric)    \n",
    "        value['model'] = clf\n",
    "        value['weight'] = int(splited[1])\n",
    "        value['cooc'] = int(splited[2])\n",
    "        value['clf'] = splited[0]\n",
    "        result.append(value)\n",
    "#print(result)\n",
    "pd.DataFrame(result).to_csv('{}oracle_fatorials.csv'.format(output_path, metric), index=False)\n",
    "#pd.DataFrame(result[metric]).to_csv('{}oracle_f1s.csv'.format(output_path, metric), index=False)"
   ]
  },
  {
   "cell_type": "raw",
   "metadata": {},
   "source": [
    "print(result)"
   ]
  },
  {
   "cell_type": "raw",
   "metadata": {},
   "source": []
  },
  {
   "cell_type": "code",
   "execution_count": null,
   "metadata": {},
   "outputs": [],
   "source": []
  }
 ],
 "metadata": {
  "kernelspec": {
   "display_name": "Python 3",
   "language": "python",
   "name": "python3"
  },
  "language_info": {
   "codemirror_mode": {
    "name": "ipython",
    "version": 3
   },
   "file_extension": ".py",
   "mimetype": "text/x-python",
   "name": "python",
   "nbconvert_exporter": "python",
   "pygments_lexer": "ipython3",
   "version": "3.5.2"
  }
 },
 "nbformat": 4,
 "nbformat_minor": 2
}
