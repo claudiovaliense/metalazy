{
 "cells": [
  {
   "cell_type": "code",
   "execution_count": 12,
   "metadata": {},
   "outputs": [
    {
     "name": "stdout",
     "output_type": "stream",
     "text": [
      "['log_times_3.json', 'log_times_4.json', 'log_times_2.json', 'log_times_1.json', 'log_times_0.json']\n",
      "\n",
      "log_times_3.json\n",
      "{'weight': 0.4243454933166504, 'total_pred_parallel': 931.007129907608, 'cooc': 86.8112301826477, 'weaker': 10259.554958820343, 'knn': 1.0645074844360352}\n",
      "{'total_pred': 1638, 'knn': 1638}\n",
      "\n",
      "log_times_4.json\n",
      "{'weight': 0.7189023494720459, 'total_pred_parallel': 1684.2141788005829, 'cooc': 152.8959972858429, 'weaker': 18112.39644265175, 'knn': 2.0493528842926025}\n",
      "{'total_pred': 3276, 'knn': 3276}\n",
      "\n",
      "log_times_2.json\n",
      "{'weight': 1.014404058456421, 'total_pred_parallel': 2349.1805357933044, 'cooc': 215.0324785709381, 'weaker': 24694.147030830383, 'knn': 2.5720643997192383}\n",
      "{'total_pred': 4915, 'knn': 4915}\n",
      "\n",
      "log_times_1.json\n",
      "{'weight': 1.5630443096160889, 'total_pred_parallel': 3224.572089910507, 'cooc': 299.9810383319855, 'weaker': 34735.17946147919, 'knn': 3.6206653118133545}\n",
      "{'total_pred': 6556, 'knn': 6556}\n",
      "\n",
      "log_times_0.json\n",
      "{'weight': 1.9909448623657227, 'total_pred_parallel': 4037.49681019783, 'cooc': 380.3184893131256, 'weaker': 43781.31914615631, 'knn': 4.0546369552612305}\n",
      "{'total_pred': 8199, 'knn': 8199}\n",
      "weight\n",
      "0.00024282776708936733\n",
      "total_pred_parallel\n",
      "0.49243771315987683\n",
      "cooc\n",
      "0.04638596039921034\n",
      "weaker\n",
      "5.33983646129483\n",
      "knn\n",
      "0.0004945282296940152\n"
     ]
    }
   ],
   "source": [
    "import json\n",
    "import os\n",
    "\n",
    "json_folder_path = '/home/lfmendes/data/mestrado/metalazy/results/time_pred/time_pred/webkb_time_pred/'\n",
    "\n",
    "files = [filename for filename in os.listdir(json_folder_path) if\n",
    "             (filename.startswith(\"log_times\") or filename.endswith(\".json\"))]\n",
    "print(files)\n",
    "\n",
    "total_time = {'knn':0, 'total_pred_parallel':0, 'weight':0, 'weaker':0, 'cooc':0}\n",
    "total_instances = {'knn':0,'total_pred':0}\n",
    "\n",
    "for json_file_path in files:\n",
    "    with open(json_folder_path + '/' + json_file_path) as json_file:\n",
    "        print('\\n{}'.format(json_file_path))\n",
    "        data = json.load(json_file)    \n",
    "        for item in data:       \n",
    "            if 'knn' in item:\n",
    "                total_time['knn'] += item['knn']\n",
    "                total_instances['knn'] += item['size']\n",
    "            else:\n",
    "                total_time['total_pred_parallel'] += item['total_pred']\n",
    "                total_instances['total_pred'] += item['size']\n",
    "                for proccess in item['proccess']:\n",
    "                    total_time['weight'] += sum(proccess['time_sum_weight'])\n",
    "                    total_time['weaker'] += sum(proccess['time_sum_pred'])\n",
    "                    total_time['cooc'] += sum(proccess['time_sum_cooc'])\n",
    "    print(total_time)\n",
    "    print(total_instances)\n",
    "\n",
    "total_linear = total_time['weight'] + total_time['weaker'] + total_time['cooc']\n",
    "for key in total_time.keys():\n",
    "    print(key)    \n",
    "    if key == 'knn':\n",
    "        print(total_time['knn']/total_instances['knn'])\n",
    "    else:    \n",
    "        print(total_time[key]/total_instances['knn'])"
   ]
  }
 ],
 "metadata": {
  "kernelspec": {
   "display_name": "Python 3",
   "language": "python",
   "name": "python3"
  },
  "language_info": {
   "codemirror_mode": {
    "name": "ipython",
    "version": 3
   },
   "file_extension": ".py",
   "mimetype": "text/x-python",
   "name": "python",
   "nbconvert_exporter": "python",
   "pygments_lexer": "ipython3",
   "version": "3.5.2"
  }
 },
 "nbformat": 4,
 "nbformat_minor": 2
}
