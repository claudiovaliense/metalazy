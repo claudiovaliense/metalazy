{
 "cells": [
  {
   "cell_type": "code",
   "execution_count": 1,
   "metadata": {},
   "outputs": [
    {
     "data": {
      "text/html": [
       "<div>\n",
       "<style scoped>\n",
       "    .dataframe tbody tr th:only-of-type {\n",
       "        vertical-align: middle;\n",
       "    }\n",
       "\n",
       "    .dataframe tbody tr th {\n",
       "        vertical-align: top;\n",
       "    }\n",
       "\n",
       "    .dataframe thead th {\n",
       "        text-align: right;\n",
       "    }\n",
       "</style>\n",
       "<table border=\"1\" class=\"dataframe\">\n",
       "  <thead>\n",
       "    <tr style=\"text-align: right;\">\n",
       "      <th></th>\n",
       "      <th>nb</th>\n",
       "      <th>logistic</th>\n",
       "      <th>extrarf</th>\n",
       "      <th>y_test</th>\n",
       "    </tr>\n",
       "  </thead>\n",
       "  <tbody>\n",
       "    <tr>\n",
       "      <th>0</th>\n",
       "      <td>0.0</td>\n",
       "      <td>0.0</td>\n",
       "      <td>0.0</td>\n",
       "      <td>0.0</td>\n",
       "    </tr>\n",
       "    <tr>\n",
       "      <th>1</th>\n",
       "      <td>1.0</td>\n",
       "      <td>1.0</td>\n",
       "      <td>1.0</td>\n",
       "      <td>0.0</td>\n",
       "    </tr>\n",
       "    <tr>\n",
       "      <th>2</th>\n",
       "      <td>5.0</td>\n",
       "      <td>0.0</td>\n",
       "      <td>0.0</td>\n",
       "      <td>0.0</td>\n",
       "    </tr>\n",
       "    <tr>\n",
       "      <th>3</th>\n",
       "      <td>0.0</td>\n",
       "      <td>0.0</td>\n",
       "      <td>0.0</td>\n",
       "      <td>0.0</td>\n",
       "    </tr>\n",
       "  </tbody>\n",
       "</table>\n",
       "</div>"
      ],
      "text/plain": [
       "    nb  logistic  extrarf  y_test\n",
       "0  0.0       0.0      0.0     0.0\n",
       "1  1.0       1.0      1.0     0.0\n",
       "2  5.0       0.0      0.0     0.0\n",
       "3  0.0       0.0      0.0     0.0"
      ]
     },
     "execution_count": 1,
     "metadata": {},
     "output_type": "execute_result"
    }
   ],
   "source": [
    "import pandas as pd\n",
    "from sklearn.metrics import f1_score\n",
    "\n",
    "df = pd.read_csv('/home/lfmendes/data/mestrado/metalazy/results/oracle_webkb/result_oracle_fold_1.csv')\n",
    "df.head(4)"
   ]
  },
  {
   "cell_type": "code",
   "execution_count": 2,
   "metadata": {},
   "outputs": [],
   "source": [
    "def any_correct(row):\n",
    "    for clf in ['nb','extrarf','logistic']:\n",
    "        if row['y_test'] == row[clf]:\n",
    "            return row['y_test']\n",
    "    return row[classifiers[0]]    "
   ]
  },
  {
   "cell_type": "code",
   "execution_count": 7,
   "metadata": {},
   "outputs": [
    {
     "name": "stdout",
     "output_type": "stream",
     "text": [
      "/home/lfmendes/data/mestrado/metalazy/results/manhattan/results/webkb_oracle_noconfig/result_oracle_fold_1.csv\n",
      "/home/lfmendes/data/mestrado/metalazy/results/manhattan/results/webkb_oracle_noconfig/result_oracle_fold_2.csv\n",
      "/home/lfmendes/data/mestrado/metalazy/results/manhattan/results/webkb_oracle_noconfig/result_oracle_fold_3.csv\n",
      "/home/lfmendes/data/mestrado/metalazy/results/manhattan/results/webkb_oracle_noconfig/result_oracle_fold_4.csv\n",
      "/home/lfmendes/data/mestrado/metalazy/results/manhattan/results/webkb_oracle_noconfig/result_oracle_fold_5.csv\n"
     ]
    },
    {
     "name": "stderr",
     "output_type": "stream",
     "text": [
      "/home/lfmendes/data/mestrado/venv/lib/python3.5/site-packages/sklearn/metrics/classification.py:1137: UndefinedMetricWarning: F-score is ill-defined and being set to 0.0 in labels with no true samples.\n",
      "  'recall', 'true', average, warn_for)\n"
     ]
    }
   ],
   "source": [
    "path = '/home/lfmendes/data/mestrado/metalazy/results/manhattan/results/webkb_oracle_noconfig/'\n",
    "output_path = '{}processed/'.format(path)\n",
    "\n",
    "import os\n",
    "if not os.path.exists(output_path):\n",
    "    os.makedirs(output_path)\n",
    "\n",
    "result = {}\n",
    "folds = [1,2,3,4,5]\n",
    "metrics = ['micro','macro']\n",
    "for metric in metrics:\n",
    "    result[metric] = []\n",
    "classifiers = ['nb','extrarf','logistic', 'oracle']\n",
    "    \n",
    "for fold in folds:    \n",
    "    # open file\n",
    "    print('{}result_oracle_fold_{}.csv'.format(path,fold))\n",
    "    df = pd.read_csv('{}result_oracle_fold_{}.csv'.format(path,fold))\n",
    "    # get oracle result\n",
    "    df['oracle'] = df.apply(any_correct, axis=1)\n",
    "    # insert     \n",
    "    for clf in classifiers:            \n",
    "        value = {}        \n",
    "        for metric in metrics:            \n",
    "            value['f1 {}'.format(metric)] = f1_score(df[clf], df['y_test'], average=metric)    \n",
    "            value['model'] = clf\n",
    "        result[metric].append(value)\n",
    "\n",
    "pd.DataFrame(result[metric]).to_csv('{}oracle_f1s.csv'.format(output_path, metric), index=False)"
   ]
  },
  {
   "cell_type": "code",
   "execution_count": null,
   "metadata": {},
   "outputs": [],
   "source": []
  }
 ],
 "metadata": {
  "kernelspec": {
   "display_name": "Python 3",
   "language": "python",
   "name": "python3"
  },
  "language_info": {
   "codemirror_mode": {
    "name": "ipython",
    "version": 3
   },
   "file_extension": ".py",
   "mimetype": "text/x-python",
   "name": "python",
   "nbconvert_exporter": "python",
   "pygments_lexer": "ipython3",
   "version": "3.5.2"
  }
 },
 "nbformat": 4,
 "nbformat_minor": 2
}
