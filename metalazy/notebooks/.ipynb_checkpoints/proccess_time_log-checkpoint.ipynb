{
 "cells": [
  {
   "cell_type": "code",
   "execution_count": 26,
   "metadata": {},
   "outputs": [
    {
     "name": "stdout",
     "output_type": "stream",
     "text": [
      "{'cooc': 0.0003819465637207031, 'weaker': 0.1374521255493164, 'total_pred_parallel': 0.11777329444885254, 'weight': 0.004634380340576172, 'knn': 0.14827203750610352}\n",
      "{'total_pred': 73, 'knn': 73}\n",
      "cooc\n",
      "0.00268092028194847\n",
      "weaker\n",
      "0.9647899109037479\n",
      "total_pred_parallel\n",
      "0.8266622709838074\n",
      "weight\n",
      "0.032529168814303594\n",
      "knn\n",
      "0.0020311238014534727\n",
      "1.0407359310257114\n"
     ]
    }
   ],
   "source": [
    "import json\n",
    "\n",
    "json_file_path = '/home/lfmendes/data/mestrado/metalazy/results/tempos/log_times_0.json'\n",
    "\n",
    "total_time = {'knn':0, 'total_pred_parallel':0, 'weight':0, 'weaker':0, 'cooc':0}\n",
    "total_instances = {'knn':0,'total_pred':0}\n",
    "with open(json_file_path) as json_file:\n",
    "    data = json.load(json_file)    \n",
    "    for item in data:       \n",
    "        if 'knn' in item:\n",
    "            total_time['knn'] += item['knn']\n",
    "            total_instances['knn'] += item['size']\n",
    "        else:\n",
    "            total_time['total_pred_parallel'] += item['total_pred']\n",
    "            total_instances['total_pred'] += item['size']\n",
    "            for proccess in item['proccess']:\n",
    "                total_time['weight'] += sum(proccess['time_sum_weight'])\n",
    "                total_time['weaker'] += sum(proccess['time_sum_pred'])\n",
    "                total_time['cooc'] += sum(proccess['time_sum_cooc'])\n",
    "print(total_time)\n",
    "print(total_instances)\n",
    "\n",
    "total_linear = total_time['weight'] + total_time['weaker'] + total_time['cooc']\n",
    "for key in total_time.keys():\n",
    "    print(key)    \n",
    "    if key == 'knn':\n",
    "        print(total_time['knn']/total_instances['knn'])\n",
    "    else:    \n",
    "        print(total_time[key]/total_linear)"
   ]
  }
 ],
 "metadata": {
  "kernelspec": {
   "display_name": "Python 3",
   "language": "python",
   "name": "python3"
  },
  "language_info": {
   "codemirror_mode": {
    "name": "ipython",
    "version": 3
   },
   "file_extension": ".py",
   "mimetype": "text/x-python",
   "name": "python",
   "nbconvert_exporter": "python",
   "pygments_lexer": "ipython3",
   "version": "3.5.2"
  }
 },
 "nbformat": 4,
 "nbformat_minor": 2
}
