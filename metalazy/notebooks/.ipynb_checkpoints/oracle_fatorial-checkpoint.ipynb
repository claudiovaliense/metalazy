{
 "cells": [
  {
   "cell_type": "code",
   "execution_count": 1,
   "metadata": {},
   "outputs": [],
   "source": [
    "import pandas as pd\n",
    "from sklearn.metrics import f1_score"
   ]
  },
  {
   "cell_type": "code",
   "execution_count": 4,
   "metadata": {},
   "outputs": [],
   "source": [
    "def any_correct(row):\n",
    "    for clf in ['nb_0_0','nb_1_0','nb_0_1','nb_1_1','logistic_0_0','logistic_1_0','logistic_0_1','logistic_1_1','extrarf_0_0','extrarf_1_0','extrarf_0_1','extrarf_1_1']:\n",
    "        if row['y_test'] == row[clf]:\n",
    "            return row['y_test']\n",
    "    return row['nb_0_0']    "
   ]
  },
  {
   "cell_type": "code",
   "execution_count": 16,
   "metadata": {},
   "outputs": [
    {
     "name": "stdout",
     "output_type": "stream",
     "text": [
      "/home/lfmendes/data/mestrado/metalazy/results/TESTES/teste_fatorial_oracle/result_oracle_fold_1.csv\n",
      "['nb', '0', '0']\n",
      "['nb', '1', '0']\n",
      "['nb', '0', '1']\n",
      "['nb', '1', '1']\n",
      "['logistic', '0', '0']\n",
      "['logistic', '1', '0']\n",
      "['logistic', '0', '1']\n",
      "['logistic', '1', '1']\n",
      "['extrarf', '0', '0']\n",
      "['extrarf', '1', '0']\n",
      "['extrarf', '0', '1']\n",
      "['extrarf', '1', '1']\n",
      "/home/lfmendes/data/mestrado/metalazy/results/TESTES/teste_fatorial_oracle/result_oracle_fold_2.csv\n",
      "['nb', '0', '0']\n",
      "['nb', '1', '0']\n",
      "['nb', '0', '1']\n",
      "['nb', '1', '1']\n",
      "['logistic', '0', '0']\n",
      "['logistic', '1', '0']\n",
      "['logistic', '0', '1']\n",
      "['logistic', '1', '1']\n",
      "['extrarf', '0', '0']\n",
      "['extrarf', '1', '0']\n",
      "['extrarf', '0', '1']\n",
      "['extrarf', '1', '1']\n",
      "/home/lfmendes/data/mestrado/metalazy/results/TESTES/teste_fatorial_oracle/result_oracle_fold_3.csv\n",
      "['nb', '0', '0']\n",
      "['nb', '1', '0']\n",
      "['nb', '0', '1']\n",
      "['nb', '1', '1']\n",
      "['logistic', '0', '0']\n",
      "['logistic', '1', '0']\n",
      "['logistic', '0', '1']\n",
      "['logistic', '1', '1']\n",
      "['extrarf', '0', '0']\n",
      "['extrarf', '1', '0']\n",
      "['extrarf', '0', '1']\n",
      "['extrarf', '1', '1']\n",
      "/home/lfmendes/data/mestrado/metalazy/results/TESTES/teste_fatorial_oracle/result_oracle_fold_4.csv\n",
      "['nb', '0', '0']\n",
      "['nb', '1', '0']\n",
      "['nb', '0', '1']\n",
      "['nb', '1', '1']\n",
      "['logistic', '0', '0']\n",
      "['logistic', '1', '0']\n",
      "['logistic', '0', '1']\n",
      "['logistic', '1', '1']\n",
      "['extrarf', '0', '0']\n",
      "['extrarf', '1', '0']\n",
      "['extrarf', '0', '1']\n",
      "['extrarf', '1', '1']\n",
      "/home/lfmendes/data/mestrado/metalazy/results/TESTES/teste_fatorial_oracle/result_oracle_fold_5.csv\n",
      "['nb', '0', '0']\n",
      "['nb', '1', '0']\n",
      "['nb', '0', '1']\n",
      "['nb', '1', '1']\n",
      "['logistic', '0', '0']\n",
      "['logistic', '1', '0']\n",
      "['logistic', '0', '1']\n",
      "['logistic', '1', '1']\n",
      "['extrarf', '0', '0']\n",
      "['extrarf', '1', '0']\n",
      "['extrarf', '0', '1']\n",
      "['extrarf', '1', '1']\n",
      "{'micro': [], 'macro': [{'f1 micro': 0.7945205479452053, 'model': 'nb_0_0', 'clf': 'nb', 'weight': 0, 'f1 macro': 0.7943661971830986, 'cooc': 0}, {'f1 micro': 0.7671232876712328, 'model': 'nb_1_0', 'clf': 'nb', 'weight': 1, 'f1 macro': 0.7671232876712328, 'cooc': 0}, {'f1 micro': 0.7945205479452053, 'model': 'nb_0_1', 'clf': 'nb', 'weight': 0, 'f1 macro': 0.7943661971830986, 'cooc': 1}, {'f1 micro': 0.7808219178082192, 'model': 'nb_1_1', 'clf': 'nb', 'weight': 1, 'f1 macro': 0.7804511278195488, 'cooc': 1}, {'f1 micro': 0.821917808219178, 'model': 'logistic_0_0', 'clf': 'logistic', 'weight': 0, 'f1 macro': 0.8207065936142073, 'cooc': 0}, {'f1 micro': 0.8082191780821918, 'model': 'logistic_1_0', 'clf': 'logistic', 'weight': 1, 'f1 macro': 0.807315233785822, 'cooc': 0}, {'f1 micro': 0.7808219178082192, 'model': 'logistic_0_1', 'clf': 'logistic', 'weight': 0, 'f1 macro': 0.780451127819549, 'cooc': 1}, {'f1 micro': 0.7808219178082192, 'model': 'logistic_1_1', 'clf': 'logistic', 'weight': 1, 'f1 macro': 0.780451127819549, 'cooc': 1}, {'f1 micro': 0.8356164383561644, 'model': 'extrarf_0_0', 'clf': 'extrarf', 'weight': 0, 'f1 macro': 0.833079268292683, 'cooc': 0}, {'f1 micro': 0.8082191780821918, 'model': 'extrarf_1_0', 'clf': 'extrarf', 'weight': 1, 'f1 macro': 0.803763440860215, 'cooc': 0}, {'f1 micro': 0.7945205479452053, 'model': 'extrarf_0_1', 'clf': 'extrarf', 'weight': 0, 'f1 macro': 0.792022792022792, 'cooc': 1}, {'f1 micro': 0.7945205479452053, 'model': 'extrarf_1_1', 'clf': 'extrarf', 'weight': 1, 'f1 macro': 0.792022792022792, 'cooc': 1}, {'f1 micro': 0.7671232876712328, 'model': 'nb_0_0', 'clf': 'nb', 'weight': 0, 'f1 macro': 0.7664219838132882, 'cooc': 0}, {'f1 micro': 0.7808219178082192, 'model': 'nb_1_0', 'clf': 'nb', 'weight': 1, 'f1 macro': 0.7797888386123679, 'cooc': 0}, {'f1 micro': 0.7945205479452053, 'model': 'nb_0_1', 'clf': 'nb', 'weight': 0, 'f1 macro': 0.7939017504234895, 'cooc': 1}, {'f1 micro': 0.7945205479452053, 'model': 'nb_1_1', 'clf': 'nb', 'weight': 1, 'f1 macro': 0.7939017504234895, 'cooc': 1}, {'f1 micro': 0.7945205479452053, 'model': 'logistic_0_0', 'clf': 'logistic', 'weight': 0, 'f1 macro': 0.7931229926317778, 'cooc': 0}, {'f1 micro': 0.7945205479452053, 'model': 'logistic_1_0', 'clf': 'logistic', 'weight': 1, 'f1 macro': 0.7931229926317778, 'cooc': 0}, {'f1 micro': 0.7945205479452053, 'model': 'logistic_0_1', 'clf': 'logistic', 'weight': 0, 'f1 macro': 0.7931229926317778, 'cooc': 1}, {'f1 micro': 0.8082191780821918, 'model': 'logistic_1_1', 'clf': 'logistic', 'weight': 1, 'f1 macro': 0.807315233785822, 'cooc': 1}, {'f1 micro': 0.6986301369863014, 'model': 'extrarf_0_0', 'clf': 'extrarf', 'weight': 0, 'f1 macro': 0.6916282642089093, 'cooc': 0}, {'f1 micro': 0.6986301369863014, 'model': 'extrarf_1_0', 'clf': 'extrarf', 'weight': 1, 'f1 macro': 0.6916282642089093, 'cooc': 0}, {'f1 micro': 0.7397260273972603, 'model': 'extrarf_0_1', 'clf': 'extrarf', 'weight': 0, 'f1 macro': 0.729787648548607, 'cooc': 1}, {'f1 micro': 0.7534246575342466, 'model': 'extrarf_1_1', 'clf': 'extrarf', 'weight': 1, 'f1 macro': 0.7453488372093023, 'cooc': 1}, {'f1 micro': 0.7887323943661971, 'model': 'nb_0_0', 'clf': 'nb', 'weight': 0, 'f1 macro': 0.7825199101490709, 'cooc': 0}, {'f1 micro': 0.7887323943661971, 'model': 'nb_1_0', 'clf': 'nb', 'weight': 1, 'f1 macro': 0.7825199101490709, 'cooc': 0}, {'f1 micro': 0.8028169014084506, 'model': 'nb_0_1', 'clf': 'nb', 'weight': 0, 'f1 macro': 0.7979674796747969, 'cooc': 1}, {'f1 micro': 0.8169014084507042, 'model': 'nb_1_1', 'clf': 'nb', 'weight': 1, 'f1 macro': 0.8131957093705728, 'cooc': 1}, {'f1 micro': 0.7746478873239436, 'model': 'logistic_0_0', 'clf': 'logistic', 'weight': 0, 'f1 macro': 0.773524720893142, 'cooc': 0}, {'f1 micro': 0.7746478873239436, 'model': 'logistic_1_0', 'clf': 'logistic', 'weight': 1, 'f1 macro': 0.773524720893142, 'cooc': 0}, {'f1 micro': 0.8169014084507042, 'model': 'logistic_0_1', 'clf': 'logistic', 'weight': 0, 'f1 macro': 0.8145469158127387, 'cooc': 1}, {'f1 micro': 0.7887323943661971, 'model': 'logistic_1_1', 'clf': 'logistic', 'weight': 1, 'f1 macro': 0.7872127872127872, 'cooc': 1}, {'f1 micro': 0.7323943661971831, 'model': 'extrarf_0_0', 'clf': 'extrarf', 'weight': 0, 'f1 macro': 0.7215686274509804, 'cooc': 0}, {'f1 micro': 0.7464788732394367, 'model': 'extrarf_1_0', 'clf': 'extrarf', 'weight': 1, 'f1 macro': 0.7346345514950166, 'cooc': 0}, {'f1 micro': 0.7887323943661971, 'model': 'extrarf_0_1', 'clf': 'extrarf', 'weight': 0, 'f1 macro': 0.7825199101490709, 'cooc': 1}, {'f1 micro': 0.8028169014084506, 'model': 'extrarf_1_1', 'clf': 'extrarf', 'weight': 1, 'f1 macro': 0.7979674796747969, 'cooc': 1}, {'f1 micro': 0.7605633802816902, 'model': 'nb_0_0', 'clf': 'nb', 'weight': 0, 'f1 macro': 0.7574844283705042, 'cooc': 0}, {'f1 micro': 0.7605633802816902, 'model': 'nb_1_0', 'clf': 'nb', 'weight': 1, 'f1 macro': 0.7574844283705042, 'cooc': 0}, {'f1 micro': 0.7464788732394367, 'model': 'nb_0_1', 'clf': 'nb', 'weight': 0, 'f1 macro': 0.7439903846153846, 'cooc': 1}, {'f1 micro': 0.7464788732394367, 'model': 'nb_1_1', 'clf': 'nb', 'weight': 1, 'f1 macro': 0.7439903846153846, 'cooc': 1}, {'f1 micro': 0.7887323943661971, 'model': 'logistic_0_0', 'clf': 'logistic', 'weight': 0, 'f1 macro': 0.7885646217986897, 'cooc': 0}, {'f1 micro': 0.7746478873239436, 'model': 'logistic_1_0', 'clf': 'logistic', 'weight': 1, 'f1 macro': 0.7742448330683624, 'cooc': 0}, {'f1 micro': 0.7746478873239436, 'model': 'logistic_0_1', 'clf': 'logistic', 'weight': 0, 'f1 macro': 0.7742448330683624, 'cooc': 1}, {'f1 micro': 0.7605633802816902, 'model': 'logistic_1_1', 'clf': 'logistic', 'weight': 1, 'f1 macro': 0.760373238038515, 'cooc': 1}, {'f1 micro': 0.7323943661971831, 'model': 'extrarf_0_0', 'clf': 'extrarf', 'weight': 0, 'f1 macro': 0.7269783444646833, 'cooc': 0}, {'f1 micro': 0.7183098591549296, 'model': 'extrarf_1_0', 'clf': 'extrarf', 'weight': 1, 'f1 macro': 0.7137096774193548, 'cooc': 0}, {'f1 micro': 0.7183098591549296, 'model': 'extrarf_0_1', 'clf': 'extrarf', 'weight': 0, 'f1 macro': 0.7137096774193548, 'cooc': 1}, {'f1 micro': 0.7464788732394367, 'model': 'extrarf_1_1', 'clf': 'extrarf', 'weight': 1, 'f1 macro': 0.7402439024390244, 'cooc': 1}, {'f1 micro': 0.8450704225352113, 'model': 'nb_0_0', 'clf': 'nb', 'weight': 0, 'f1 macro': 0.8430781595338558, 'cooc': 0}, {'f1 micro': 0.8591549295774648, 'model': 'nb_1_0', 'clf': 'nb', 'weight': 1, 'f1 macro': 0.8577724358974359, 'cooc': 0}, {'f1 micro': 0.8309859154929577, 'model': 'nb_0_1', 'clf': 'nb', 'weight': 0, 'f1 macro': 0.8282258064516129, 'cooc': 1}, {'f1 micro': 0.8732394366197183, 'model': 'nb_1_1', 'clf': 'nb', 'weight': 1, 'f1 macro': 0.8716094032549729, 'cooc': 1}, {'f1 micro': 0.8450704225352113, 'model': 'logistic_0_0', 'clf': 'logistic', 'weight': 0, 'f1 macro': 0.8449473893190391, 'cooc': 0}, {'f1 micro': 0.8309859154929577, 'model': 'logistic_1_0', 'clf': 'logistic', 'weight': 1, 'f1 macro': 0.830952380952381, 'cooc': 0}, {'f1 micro': 0.8591549295774648, 'model': 'logistic_0_1', 'clf': 'logistic', 'weight': 0, 'f1 macro': 0.8589030206677265, 'cooc': 1}, {'f1 micro': 0.8309859154929577, 'model': 'logistic_1_1', 'clf': 'logistic', 'weight': 1, 'f1 macro': 0.830952380952381, 'cooc': 1}, {'f1 micro': 0.8309859154929577, 'model': 'extrarf_0_0', 'clf': 'extrarf', 'weight': 0, 'f1 macro': 0.8293269230769231, 'cooc': 0}, {'f1 micro': 0.8169014084507042, 'model': 'extrarf_1_0', 'clf': 'extrarf', 'weight': 1, 'f1 macro': 0.8155844155844156, 'cooc': 0}, {'f1 micro': 0.8028169014084506, 'model': 'extrarf_0_1', 'clf': 'extrarf', 'weight': 0, 'f1 macro': 0.7995967741935484, 'cooc': 1}, {'f1 micro': 0.7887323943661971, 'model': 'extrarf_1_1', 'clf': 'extrarf', 'weight': 1, 'f1 macro': 0.7860156720916214, 'cooc': 1}]}\n"
     ]
    }
   ],
   "source": [
    "path = '/home/lfmendes/data/mestrado/metalazy/results/TESTES/teste_fatorial_oracle/'\n",
    "output_path = '{}processed/'.format(path)\n",
    "\n",
    "import os\n",
    "if not os.path.exists(output_path):\n",
    "    os.makedirs(output_path)\n",
    "\n",
    "result = {}\n",
    "folds = [1,2,3,4,5]\n",
    "metrics = ['micro','macro']\n",
    "for metric in metrics:\n",
    "    result[metric] = []\n",
    "configurations = ['nb_0_0','nb_1_0','nb_0_1','nb_1_1','logistic_0_0','logistic_1_0','logistic_0_1','logistic_1_1','extrarf_0_0','extrarf_1_0','extrarf_0_1','extrarf_1_1']\n",
    "    \n",
    "for fold in folds:    \n",
    "    # open file\n",
    "    print('{}result_oracle_fold_{}.csv'.format(path,fold))\n",
    "    df = pd.read_csv('{}result_fatorial_oracle_fold_{}.csv'.format(path,fold))\n",
    "    # get oracle result\n",
    "    df['oracle'] = df.apply(any_correct, axis=1)\n",
    "    # insert     \n",
    "    for clf in configurations:            \n",
    "        value = {}        \n",
    "        splited = clf.split('_')\n",
    "        print(splited)\n",
    "        for metric in metrics:            \n",
    "            value['f1 {}'.format(metric)] = f1_score(df[clf], df['y_test'], average=metric)    \n",
    "            value['model'] = clf\n",
    "            value['weight'] = int(splited[1])\n",
    "            value['cooc'] = int(splited[2])\n",
    "            value['clf'] = splited[0]\n",
    "            result.append(value)\n",
    "print(result)\n",
    "#pd.DataFrame(result).to_csv('{}oracle_fatorials.csv'.format(output_path, metric), index=False)\n",
    "#pd.DataFrame(result[metric]).to_csv('{}oracle_f1s.csv'.format(output_path, metric), index=False)"
   ]
  },
  {
   "cell_type": "raw",
   "metadata": {},
   "source": [
    "print(result)"
   ]
  },
  {
   "cell_type": "raw",
   "metadata": {},
   "source": []
  },
  {
   "cell_type": "code",
   "execution_count": null,
   "metadata": {},
   "outputs": [],
   "source": []
  }
 ],
 "metadata": {
  "kernelspec": {
   "display_name": "Python 3",
   "language": "python",
   "name": "python3"
  },
  "language_info": {
   "codemirror_mode": {
    "name": "ipython",
    "version": 3
   },
   "file_extension": ".py",
   "mimetype": "text/x-python",
   "name": "python",
   "nbconvert_exporter": "python",
   "pygments_lexer": "ipython3",
   "version": "3.5.2"
  }
 },
 "nbformat": 4,
 "nbformat_minor": 2
}
